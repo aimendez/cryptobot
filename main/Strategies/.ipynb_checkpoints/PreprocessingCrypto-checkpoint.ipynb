{
 "cells": [
  {
   "cell_type": "code",
   "execution_count": 2,
   "metadata": {},
   "outputs": [
    {
     "data": {
      "text/html": [
       "<style>.container { width:100% !important; }</style>"
      ],
      "text/plain": [
       "<IPython.core.display.HTML object>"
      ]
     },
     "metadata": {},
     "output_type": "display_data"
    }
   ],
   "source": [
    "import json \n",
    "import os \n",
    "import numpy as np\n",
    "import pandas as pd\n",
    "from IPython.core.display import display, HTML\n",
    "display(HTML(\"<style>.container { width:100% !important; }</style>\"))\n",
    "main_dir = os.path.dirname(os.getcwd())"
   ]
  },
  {
   "cell_type": "markdown",
   "metadata": {},
   "source": [
    "### Load DataFrame ( timestamp, open, high, low, close )"
   ]
  },
  {
   "cell_type": "code",
   "execution_count": 4,
   "metadata": {},
   "outputs": [
    {
     "data": {
      "text/html": [
       "<div>\n",
       "<style scoped>\n",
       "    .dataframe tbody tr th:only-of-type {\n",
       "        vertical-align: middle;\n",
       "    }\n",
       "\n",
       "    .dataframe tbody tr th {\n",
       "        vertical-align: top;\n",
       "    }\n",
       "\n",
       "    .dataframe thead th {\n",
       "        text-align: right;\n",
       "    }\n",
       "</style>\n",
       "<table border=\"1\" class=\"dataframe\">\n",
       "  <thead>\n",
       "    <tr style=\"text-align: right;\">\n",
       "      <th></th>\n",
       "      <th>ts</th>\n",
       "      <th>low</th>\n",
       "      <th>high</th>\n",
       "      <th>open</th>\n",
       "      <th>close</th>\n",
       "      <th>volume</th>\n",
       "    </tr>\n",
       "  </thead>\n",
       "  <tbody>\n",
       "    <tr>\n",
       "      <th>0</th>\n",
       "      <td>2020-10-01 00:00:59</td>\n",
       "      <td>10776.59</td>\n",
       "      <td>10786.88</td>\n",
       "      <td>10776.59</td>\n",
       "      <td>10781.13</td>\n",
       "      <td>71.839045</td>\n",
       "    </tr>\n",
       "    <tr>\n",
       "      <th>1</th>\n",
       "      <td>2020-10-01 00:01:59</td>\n",
       "      <td>10779.87</td>\n",
       "      <td>10799.90</td>\n",
       "      <td>10781.02</td>\n",
       "      <td>10796.00</td>\n",
       "      <td>149.010542</td>\n",
       "    </tr>\n",
       "    <tr>\n",
       "      <th>2</th>\n",
       "      <td>2020-10-01 00:02:59</td>\n",
       "      <td>10791.50</td>\n",
       "      <td>10796.00</td>\n",
       "      <td>10796.00</td>\n",
       "      <td>10791.50</td>\n",
       "      <td>41.615967</td>\n",
       "    </tr>\n",
       "    <tr>\n",
       "      <th>3</th>\n",
       "      <td>2020-10-01 00:03:59</td>\n",
       "      <td>10791.50</td>\n",
       "      <td>10799.00</td>\n",
       "      <td>10791.51</td>\n",
       "      <td>10798.90</td>\n",
       "      <td>41.856550</td>\n",
       "    </tr>\n",
       "    <tr>\n",
       "      <th>4</th>\n",
       "      <td>2020-10-01 00:04:59</td>\n",
       "      <td>10798.80</td>\n",
       "      <td>10826.19</td>\n",
       "      <td>10798.90</td>\n",
       "      <td>10811.29</td>\n",
       "      <td>232.593454</td>\n",
       "    </tr>\n",
       "  </tbody>\n",
       "</table>\n",
       "</div>"
      ],
      "text/plain": [
       "                    ts       low      high      open     close      volume\n",
       "0  2020-10-01 00:00:59  10776.59  10786.88  10776.59  10781.13   71.839045\n",
       "1  2020-10-01 00:01:59  10779.87  10799.90  10781.02  10796.00  149.010542\n",
       "2  2020-10-01 00:02:59  10791.50  10796.00  10796.00  10791.50   41.615967\n",
       "3  2020-10-01 00:03:59  10791.50  10799.00  10791.51  10798.90   41.856550\n",
       "4  2020-10-01 00:04:59  10798.80  10826.19  10798.90  10811.29  232.593454"
      ]
     },
     "execution_count": 4,
     "metadata": {},
     "output_type": "execute_result"
    }
   ],
   "source": [
    "# CSV file contains candlestick data for interval = 1min\n",
    "df = pd.read_csv(main_dir+'/data/BTC_USD_1month_features.csv', usecols = [0,1,2,3,4,5,6])\n",
    "df['Close Time']  = pd.to_datetime(df['Close Time']/1000, unit='s')\n",
    "df['Close Time'] = [ str(item).split('.')[0].replace('T', ' ') for item in df['Close Time'].values ]\n",
    "df = df.rename( { 'Close Time':'ts'}, axis=1).drop('Open Time', axis=1)\n",
    "df.columns = [ c.lower() for c in df.columns ] \n",
    "df = df[['ts','low', 'high', 'open', 'close', 'volume']]\n",
    "coin_data = df.values\n",
    "df.head()"
   ]
  },
  {
   "cell_type": "code",
   "execution_count": 15,
   "metadata": {},
   "outputs": [],
   "source": [
    "def ConvertMinutesToHour(df_hour):\n",
    "    '''\n",
    "    Converts 60 minute candles to a single hour candle and compute extra features for model\n",
    "    args:\n",
    "        - df_hour (pandas DataFrame): pandas DF with 60 rows where each one is a minute candlestick and 5 columns (timestamp, open, high, low, close).\n",
    "    '''\n",
    "    ts = df.ts.values[-1]\n",
    "    open_hour = df_hour.open.values[0]\n",
    "    high_hour = df_hour.close.max()\n",
    "    low_hour = df_hour.close.min() \n",
    "    close_hour = df_hour.clos.valuese[-1]\n",
    "    hour_candle = {'ts': ts, 'open':open_hour, 'high':high_hour, 'low':low_hour, 'close':close_hour }\n",
    "    "
   ]
  },
  {
   "cell_type": "code",
   "execution_count": 18,
   "metadata": {},
   "outputs": [],
   "source": [
    "def convert_MinToHour(df):\n",
    "    ''' \n",
    "    Converts 1m candlestick data into 1hour candles. \n",
    "    Adds extra features?'''\n",
    "    \n",
    "    for i, (idx, row) in enumerate(df[60:].iterrows()):\n",
    "        if idx%60==0:\n",
    "            df_hour = df.iloc[idx-60:idx, :]\n",
    "            hour_candle = ConvertMinutesToHour(df_hour)\n",
    "            print(idx)\n",
    "        \n",
    "    \n",
    "    \n",
    "    \n",
    "    \n",
    "    \n",
    "    \n",
    "    \n",
    "    \n",
    "    "
   ]
  },
  {
   "cell_type": "code",
   "execution_count": 19,
   "metadata": {},
   "outputs": [
    {
     "name": "stdout",
     "output_type": "stream",
     "text": [
      "60\n"
     ]
    },
    {
     "ename": "NameError",
     "evalue": "name 'ïdx' is not defined",
     "output_type": "error",
     "traceback": [
      "\u001b[1;31m---------------------------------------------------------------------------\u001b[0m",
      "\u001b[1;31mNameError\u001b[0m                                 Traceback (most recent call last)",
      "\u001b[1;32m<ipython-input-19-a99c727cef26>\u001b[0m in \u001b[0;36m<module>\u001b[1;34m\u001b[0m\n\u001b[1;32m----> 1\u001b[1;33m \u001b[0mconvert_MinToHour\u001b[0m\u001b[1;33m(\u001b[0m\u001b[0mdf\u001b[0m\u001b[1;33m)\u001b[0m\u001b[1;33m\u001b[0m\u001b[1;33m\u001b[0m\u001b[0m\n\u001b[0m",
      "\u001b[1;32m<ipython-input-18-4968ea0d1461>\u001b[0m in \u001b[0;36mconvert_MinToHour\u001b[1;34m(df)\u001b[0m\n\u001b[0;32m      7\u001b[0m         \u001b[0mprint\u001b[0m\u001b[1;33m(\u001b[0m\u001b[0midx\u001b[0m\u001b[1;33m)\u001b[0m\u001b[1;33m\u001b[0m\u001b[1;33m\u001b[0m\u001b[0m\n\u001b[0;32m      8\u001b[0m         \u001b[1;32mif\u001b[0m \u001b[0midx\u001b[0m\u001b[1;33m%\u001b[0m\u001b[1;36m60\u001b[0m\u001b[1;33m==\u001b[0m\u001b[1;36m0\u001b[0m\u001b[1;33m:\u001b[0m\u001b[1;33m\u001b[0m\u001b[1;33m\u001b[0m\u001b[0m\n\u001b[1;32m----> 9\u001b[1;33m             \u001b[0mdf_hour\u001b[0m \u001b[1;33m=\u001b[0m \u001b[0mdf\u001b[0m\u001b[1;33m.\u001b[0m\u001b[0miloc\u001b[0m\u001b[1;33m[\u001b[0m\u001b[0midx\u001b[0m\u001b[1;33m-\u001b[0m\u001b[1;36m60\u001b[0m\u001b[1;33m:\u001b[0m\u001b[0mïdx\u001b[0m\u001b[1;33m,\u001b[0m \u001b[1;33m:\u001b[0m\u001b[1;33m]\u001b[0m\u001b[1;33m\u001b[0m\u001b[1;33m\u001b[0m\u001b[0m\n\u001b[0m\u001b[0;32m     10\u001b[0m             \u001b[0mhour_candle\u001b[0m \u001b[1;33m=\u001b[0m \u001b[0mConvertMinutesToHour\u001b[0m\u001b[1;33m(\u001b[0m\u001b[0mdf_hour\u001b[0m\u001b[1;33m)\u001b[0m\u001b[1;33m\u001b[0m\u001b[1;33m\u001b[0m\u001b[0m\n\u001b[0;32m     11\u001b[0m             \u001b[0mprint\u001b[0m\u001b[1;33m(\u001b[0m\u001b[0midx\u001b[0m\u001b[1;33m)\u001b[0m\u001b[1;33m\u001b[0m\u001b[1;33m\u001b[0m\u001b[0m\n",
      "\u001b[1;31mNameError\u001b[0m: name 'ïdx' is not defined"
     ]
    }
   ],
   "source": [
    "convert_MinToHour(df)"
   ]
  },
  {
   "cell_type": "code",
   "execution_count": null,
   "metadata": {},
   "outputs": [],
   "source": []
  },
  {
   "cell_type": "code",
   "execution_count": null,
   "metadata": {},
   "outputs": [],
   "source": []
  }
 ],
 "metadata": {
  "kernelspec": {
   "display_name": "Python 3",
   "language": "python",
   "name": "python3"
  },
  "language_info": {
   "codemirror_mode": {
    "name": "ipython",
    "version": 3
   },
   "file_extension": ".py",
   "mimetype": "text/x-python",
   "name": "python",
   "nbconvert_exporter": "python",
   "pygments_lexer": "ipython3",
   "version": "3.8.6"
  }
 },
 "nbformat": 4,
 "nbformat_minor": 4
}
